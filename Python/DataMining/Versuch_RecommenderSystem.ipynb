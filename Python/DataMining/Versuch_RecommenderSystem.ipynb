{
 "cells": [
  {
   "cell_type": "markdown",
   "metadata": {},
   "source": [
    "# Data Mining Versuch Recommender Systeme\n",
    "\n",
    "* Autor: Prof. Dr. Johannes Maucher\n",
    "* Datum: 30.09.2015\n",
    "\n",
    "## Abgabe:\n",
    "\n",
    "- **Abzugeben ist das Jupyter Notebook mit dem verlangten Implementierungen und den entsprechenden Ausgaben.**\n",
    "- **Das Notebook ist als .ipynb und als .html abzugeben.**\n",
    "- **Klausurelevante Fragen sind Dokument \"Fragenkatalog Datamining\" zu finden.**\n",
    "- Antworten auf Fragen im Notebook, Diskussionen und Beschreibung der Ergebnisse sind optional (aber empfohlen) und werden nicht bewertet.\n",
    "\n",
    "* [Übersicht Data Mining Praktikum](https://maucher.pages.mi.hdm-stuttgart.de/ai/page/dm/)\n",
    "\n",
    "\n",
    "# Einführung\n",
    "\n",
    "## Lernziele:\n",
    "\n",
    "In diesem Versuch sollen Kenntnisse in folgenden Themen vermittelt werden:\n",
    "\n",
    "* __Ähnlichkeit:__ Verfahren zur Bestimmung der Ähnlichkeit zwischen Personen (Kunden) und Elementen (Produkten)\n",
    "* __Empfehlungssysteme__ Collaborative Filtering \n",
    "* __Collaborative Filtering:__ Nutzerbezogener Ansatz und elementbasierter Ansatz\n",
    "\n",
    "Sämtliche Verfahren und Algorithmen werden in Python implementiert.\n",
    "\n",
    "## Theorie zur Vorbereitung\n",
    "\n",
    "### Recommender Systeme\n",
    "\n",
    "Recommender Systeme werden im E-Commerce eingesetzt um Werbung in Form von kundenspezifischen Empfehlungen zu verteilen. Weitläufig bekannt sind die Amazon-Empfehlungen, die entweder per e-mail geschickt oder nach dem Log-In in der Web-Page angezeigt werden. Diese Empfehlungen werden in Abhängigkeit von den bisher vom jeweiligen Kunden gekauften bzw. bewerteten Produkten erstellt. In diesem Versuch werden die derzeit wohl am weitest verbreiteteten Verfahren für die Erzeugung kundenspezifischer Empfehlungen vorgestellt, darunter das elementweise Collaborative Filtering, welches z.B. auch von Amazon eingesetzt wird.     \n",
    "\n",
    "Direkt-Marketing Methoden wie die kundenspezifische Erzeugung und Bereitstellung von Werbung erfordern detaillierte Kunden- und Warenkorbanalysen. Kunden mit ähnlichem Kaufverhalten werden in Kundengruppen zusammengefasst. Die Warenkorbanalyse untersucht u.a. welche Waren bevorzugt im Verbund von der gleichen Person gekauft werden. Damit kann ein Händler Werbung in Form von Empfehlungen individuell und gezielt an seine Kunden richten, abhängig davon welcher Kundengruppe er angehört und welche Produkte bevorzugt von dieser Kundengruppe nachgefragt werden. \n",
    "\n",
    "Im ersten Teil der Übung werden fiktive Daten in einer überschaubaren Menge verwendet. Es handelt sich hier um Filmbewertungen. Anhand dieses Beispiels sollen die notwendigen Methoden und Abläufe implementiert und getestet werden. Diese werden im zweiten Teil der Übung auf echte Daten angewandt. Hierzu werden über eine Python-API Daten vom Internet-Meta-Radio _last.fm_ integriert. Auf der Basis dieser Daten sollen dann Musikempfehlungen für last.fm User berechnet werden. \n",
    "\n",
    "Recommender Systeme lassen sich mit\n",
    "\n",
    "* Clustering Verfahren\n",
    "* Suchalgorithmen\n",
    "* Collaborativen Filtering \n",
    " \n",
    "realisieren. Am häufigsten wird hierbei das Collaborative Filtering eingesetzt. Für das Collaborative Filtering wird jeder der $M$ User durch einen $N$-dimensionalen Vektor beschrieben, wobei $N$ die Anzahl der Produkte im Angebot des Händlers ist. Jedes Element im Vektor gehört zu einem speziellen Produkt. Das Element hat den Wert 1, wenn der User dieses Produkt bereits gekauft hat, sonst 0 (andere Wertbelegungen sind möglich, z.B. wenn Produktbewertungen vorliegen). Alle $M$ Zeilenvektoren können zur _User/Item_ Matrix zusammengefasst werden (siehe Abbildung).\n",
    "\n",
    "\n",
    "<img src=\"https://maucher.home.hdm-stuttgart.de/Pics/UserItemMatrix.png\" style=\"width:500px\" align=\"center\">"
   ]
  },
  {
   "cell_type": "markdown",
   "metadata": {},
   "source": [
    "Das traditionelle **userbasierte Collaborative Filtering (UCF)**, benutzt die Ähnlichkeit zwischen Benutzern: Um für User $U_i$ eine Empfehlung zu erzeugen wird zunächst der diesem User ähnlichste Kunde (oder eine Menge vom ähnlichsten Kunden) ermittelt. Dann werden $U_i$ die Produkte (Items) empfohlen, welche der ähnlichste Kunde gekauft hat, $U_i$ selbst jedoch noch nicht. \n",
    "\n",
    "Dieser Ansatz skaliert schlecht im Fall sehr großer *User/Item*-Matrizen. Ausserdem ist er für User, welche erst wenige Produkte gekauft haben unzuverlässig. Besser eignet sich in diesen Fällen das **itembasierte Collaborative Filtering (ICF)**. Es wird u.a. von Amazon.com eingesetzt. Diese Variante benutzt die Ähnlichkeit zwischen Produkten (Items). Dabei sind Produkte umso ähnlicher je mehr Kunden diese Produkte gemeinsam gekauft haben. Für die Produkte welche ein Referenzuser $U_i$ bereits gekauft hat, werden die ähnlichsten Produkte ermittelt. Diese ähnlichsten Produkte werden $U_i$ empfohlen, wenn er sie nicht schon selbst gekauft hat.\n",
    "\n",
    "Im folgenden Abschnitt werden einige gebräuchliche Metriken für die Berechnung der Ähnlichkeit zwischen Benutzern oder Artikeln vorgestellt. Für Collaboratives Filtering wird sehr häufig das Cosinus - Ähnlichkeitsmaß eingesetzt.\n"
   ]
  },
  {
   "cell_type": "markdown",
   "metadata": {},
   "source": [
    "### Gebräuchliche Ähnlichkeitsmaße\n",
    "\n",
    "Die __euklidische Distanz__ $d_E(\\underline{a},\\underline{b})$ zwischen zwei n-dimensionalen Vektoren $\\underline{a}=(a_1,\\ldots,a_n)$ und $\\underline{b}=(b_1,\\ldots,b_n)$ berechnet sich zu\n",
    "\t$$\n",
    "\td_E(\\underline{a},\\underline{b})=\\sqrt{\\sum_{i=1}^n (a_i-b_i)^2}\n",
    "\t$$\n",
    "Zwei Vektoren können als umso ähnlicher erachtet werden, je kleiner deren euklidische Distanz ist. \n",
    "Ein auf der euklidischen Metrik basierendes Ähnlichkeitsmaß zwischen zwei Vektoren $\\underline{a}$ und $\\underline{b}$ kann durch \n",
    "$$\n",
    "s_E(\\underline{a},\\underline{b})=\\frac{1}{1+d_E(\\underline{a},\\underline{b})}\n",
    "$$\n",
    "angegeben werden.\n",
    "\n",
    "\n",
    "__Pearson Korrelation__\n",
    "Die Ähnlichkeit zwischen zwei Vektoren kann auch durch den Pearson-Korrelationskoeffizient $\\rho_{\\underline{a},\\underline{b}}$ ausgedrückt werden. Er berechnet sich zu\n",
    "$$\n",
    "\\rho_{\\underline{a},\\underline{b}}= \\frac{1}{N}\\cdot \\sum\\limits_{i=1}^{N}\\frac{(a_i-\\overline{a})}{\\sigma_a} \\frac{(b_i-\\overline{b})}{\\sigma_b}\n",
    "$$\n",
    "Dabei bezeichnet $N$ die Länge der Vektoren, $\\overline{a}$ den Mittelwert und $\\sigma_a$ die Standardabweichung des Vektors $\\underline{a}$. \n",
    "\n",
    "Der Pearson-Korrelationskoeffizient misst die lineare Abhängigkeit zwischen zwei Vektoren. Der maximale Wert von $+1$ wird erreicht, wenn die durch die beiden Vektoren definierten N Punkte im 2-dimensionalen Raum auf einer ansteigenden Geraden liegen. Der Minimalwert von $-1$ wird erreicht, wenn die Punkte auf einer abfallenden Geraden liegen. Der Betrag des Koeffizienten ist umso kleiner, je stärker die Punkte von einer fiktiven Geraden (kann durch lineare Regression berechnet werden) abweichen. Der Koeffizient ist $0$ wenn keine lineare Abhängigkeit zwischen den Vektoren besteht.\n",
    "\n",
    "\n",
    "__Cosinus Ähnlichkeitsmaß__\n",
    "Die Ähnlichkeit zwischen zwei Vektoren kann auch durch den Cosinus $\\cos(\\underline{a},\\underline{b})$ ausgedrückt werden. Er berechnet sich zu\n",
    "$$\n",
    "\\cos(\\underline{a},\\underline{b})= \\frac{\\underline{a} \\cdot \\underline{b}}{\\left\\|\\underline{a}\\right\\|\\cdot \\left\\|\\underline{b}\\right\\|}\n",
    "$$\n",
    "wobei im Zähler das Skalarprodukt der beiden Vektoren steht und mit $\\left\\|\\underline{x}\\right\\|$ der Betrag des Vektors $\\underline{x}$ bezeichnet wird.\n",
    "\n",
    "Falls die Vektoren $\\underline{a}$ und $\\underline{b}$ mittelwertfrei sind, ist der Cosinus-Ähnlichkeitswert gleich dem Pearson-Korrelationswert. In der Dokument- und Textanalyse wird vornehmlich das Cosinus-Ähnlichkeitsmaß verwendet. \n",
    "\n",
    "\n",
    "__Russel Rao Ähnlichkeitsmaß__\n",
    "Die Russel Rao-Ähnlichkeit zwischen zwei binären Vektoren $\\underline{a}$ und $\\underline{b}$ mißt das Verhältnis zwischen der Anzahl $\\alpha$ der Stellen in denen beide Vektoren den Wert 1 haben und der Länge $n$ der Vektoren. Z.B. ist für die Vektoren $\\underline{a}=(1,0,1,0,0,1)$ und $\\underline{b}=(0,1,1,1,0,1)$ die Russel-Rao-Ähnlichkeit $s_{RR}(\\underline{a},\\underline{b})=2/6=0.333$.\n",
    "\n",
    "__Jaccard Ähnlichkeitsmaß__\n",
    "Die Jaccard-Ähnlichkeit zwischen zwei binären Vektoren $\\underline{a}$ und $\\underline{b}$ mißt das Verhältnis zwischen der Anzahl $\\alpha$ der Stellen in denen beide Vektoren den Wert $1$ haben und der Anzahl der Stellen in denen mindestens einer der beiden Vektoren ungleich $0$ ist. Z.B. ist für die Vektoren $\\underline{a}=(1,0,1,0,0,1)$ und $\\underline{b}=(0,1,1,1,0,1)$ die Jaccard-Ähnlichkeit $s_{J}(\\underline{a},\\underline{b})=2/5=0.4$. Die Jaccard Metrik wird in diesem Versuch für die Bestimmung der Ähnlichkeit von *last.fm*-Usern eingesetzt.\n"
   ]
  },
  {
   "cell_type": "markdown",
   "metadata": {},
   "source": [
    "## Vor dem Versuch zu klärende Fragen\n",
    "Eine Untermenge der im Folgenden aufgeführten Fragen wird zu Beginn des Versuchs im Rahmen eines Gruppenkolloqs abgefragt. Auf jede Frage sollte von mindestens einem Gruppenmitglied eine Antwort geliefert werden und jedes Gruppenmitglied muss mindestens eine der gestellten Fragen beantworten können.\n",
    "\n",
    "**Aufgaben:**\n",
    "\n",
    "* Beschreiben Sie das Prinzip des userbasierten Collaborativen Filtering (UCF)."
   ]
  },
  {
   "cell_type": "markdown",
   "metadata": {},
   "source": [
    "Antwort: Beim UCF wird für einen User der ihm ähnlichste User (in Bezug auf gekaufte Produkte) rausgesucht und Produkte die dieser ähnliche User schon gekauft hat, der betrachtete User aber nicht, vorgeschlagen."
   ]
  },
  {
   "cell_type": "markdown",
   "metadata": {},
   "source": [
    "* Welche Nachteile hat das UCF?"
   ]
  },
  {
   "cell_type": "markdown",
   "metadata": {},
   "source": [
    "Antwort: Es skaliert schlecht auf sehr große Usermengen. Außerdem ist es für User die erst wenige Produkte gekauft haben unzuverlässig."
   ]
  },
  {
   "cell_type": "markdown",
   "metadata": {},
   "source": [
    "* Worin besteht der Unterschied zwischen UCF und itembasierten Collaborativen Filtering (ICF)?"
   ]
  },
  {
   "cell_type": "markdown",
   "metadata": {},
   "source": [
    "Antwort: Beim itembasierten Collaborativen Filtering werden, anders als beim UCF, nicht ähnliche User miteinander verglichen, sondern Produkte. Produkte sind sich je ähnlicher, desto mehr User diese gemeinsam gekauft haben."
   ]
  },
  {
   "cell_type": "markdown",
   "metadata": {},
   "source": [
    "* Gegeben seien die Vektoren \n",
    "\n",
    "    \\begin{eqnarray*}\n",
    "    \\underline{a} & = & [1,2,3,4,5,6] \\\\\n",
    "    \\underline{b} & = & [3,3,5,6,7,8] \\\\\n",
    "    \\end{eqnarray*}\n",
    "    \n",
    "    Schreiben Sie eine Python Funktion, die den Mittelwert derartiger Vektoren berechnet. Schreiben Sie eine weitere Funktion, die die Varianz berechnet"
   ]
  },
  {
   "cell_type": "code",
   "execution_count": 1,
   "metadata": {},
   "outputs": [],
   "source": [
    "import numpy as np\n",
    "\n",
    "def mean_vec(vec):\n",
    "    _sum=0\n",
    "    for i in vec:\n",
    "        _sum+=i\n",
    "    return _sum/len(vec)\n",
    "\n",
    "def variance_vec(vec):\n",
    "    _sum=0\n",
    "    for i in range(len(vec)):\n",
    "        _sum += (vec[i]-mean_vec(vec))**2\n",
    "    return _sum/len(vec)"
   ]
  },
  {
   "cell_type": "code",
   "execution_count": 2,
   "metadata": {},
   "outputs": [
    {
     "name": "stdout",
     "output_type": "stream",
     "text": [
      "a: Mittelwert: 3.5 ,  Varianz: 2.9166666666666665\n",
      "b: Mittelwert: 5.333333333333333 ,  Varianz: 3.5555555555555554\n"
     ]
    }
   ],
   "source": [
    "a = [1,2,3,4,5,6]\n",
    "b = [3,3,5,6,7,8]\n",
    "\n",
    "print(f\"a: Mittelwert: {mean_vec(a)} ,  Varianz: {variance_vec(a)}\")\n",
    "print(f\"b: Mittelwert: {mean_vec(b)} ,  Varianz: {variance_vec(b)}\")"
   ]
  },
  {
   "cell_type": "markdown",
   "metadata": {},
   "source": [
    "* Wie groß ist die\n",
    "\n",
    "    - Euklidische Ähnlichkeit\n",
    "    - Pearson Ähnlichkeit\n",
    "    - Cosinus Ähnlichkeit\n",
    "    \n",
    "    zwischen den Vektoren $\\underline{a}$ und $\\underline{b}$? "
   ]
  },
  {
   "cell_type": "code",
   "execution_count": 3,
   "metadata": {},
   "outputs": [],
   "source": [
    "def euk_similarity(a,b):\n",
    "    _sum=0\n",
    "    for i in range(len(a)):\n",
    "        _sum += (a[i]-b[i])**2\n",
    "    return 1/(1+_sum** (1/2))\n",
    "\n",
    "def pear_similarity(a,b):\n",
    "    _sum=0\n",
    "    for i in range(len(a)):\n",
    "        _sum += ((a[i]- mean_vec(a)) / np.sqrt(variance_vec(a) )) * ((b[i]- mean_vec(b)) / np.sqrt(variance_vec(b) ))\n",
    "        \n",
    "    return _sum/len(a)\n",
    "\n",
    "def cosine_similarity(a,b):\n",
    "    prod=0\n",
    "    sqsuma= 0\n",
    "    sqsumb= 0\n",
    "    for i in range(len(a)):\n",
    "        prod += a[i]*b[i]\n",
    "        \n",
    "        sqsuma += a[i]**2\n",
    "        sqsumb += b[i]**2\n",
    "        \n",
    "    return prod / (np.sqrt(sqsuma) * np.sqrt(sqsumb))"
   ]
  },
  {
   "cell_type": "code",
   "execution_count": 4,
   "metadata": {},
   "outputs": [
    {
     "name": "stdout",
     "output_type": "stream",
     "text": [
      "Euklidische Ähnlichkeit: 0.179128784747792\n",
      "Pearson Ähnlichkeit: 0.9833434220628549\n",
      "Cosinus Ähnlichkeit: 0.991060084745164\n"
     ]
    }
   ],
   "source": [
    "print(f\"Euklidische Ähnlichkeit: {euk_similarity(a,b)}\")\n",
    "print(f\"Pearson Ähnlichkeit: {pear_similarity(a,b)}\")\n",
    "print(f\"Cosinus Ähnlichkeit: {cosine_similarity(a,b)}\")"
   ]
  },
  {
   "cell_type": "markdown",
   "metadata": {},
   "source": [
    "* In welchen Fällen sind Cosinus- und Pearsonähnlichkeit der euklidischen Ähnlichkeit vorzuziehen?"
   ]
  },
  {
   "cell_type": "markdown",
   "metadata": {},
   "source": [
    "Antwort: Wenn die zu vergleichenden Elemente verschieden groß sind. Zum Beispiel wenn zwei Texte eigentlich sehr ähnlich sind, aber unterschiedlich lang, würde die euklidische Ähnlichkeit allein anhand der unterschiedlichen Länge einen großen Unterschied zeigen."
   ]
  },
  {
   "cell_type": "code",
   "execution_count": 5,
   "metadata": {},
   "outputs": [],
   "source": [
    "from IPython.display import Latex\n",
    "from IPython.display import Image\n",
    "import pylast"
   ]
  },
  {
   "cell_type": "markdown",
   "metadata": {},
   "source": [
    "# Versuchsdurchführung\n",
    "## Teil 1: Fiktive Filmbewertung\n",
    "### Daten\n",
    "Folgende Tabelle enthält die Filmbewertungen von 7 Personen.\n",
    "from IPython.display import Latex\n",
    "In diesem Versuch sollen Kenntnisse in folgenden Themen vermittelt werden:\n",
    "\n",
    "\n",
    "<img src=\"https://maucher.home.hdm-stuttgart.de/Pics/recommenderFilmRecommendations.PNG\" style=\"width:500px\" align=\"center\">\n",
    "\n"
   ]
  },
  {
   "cell_type": "markdown",
   "metadata": {},
   "source": [
    "Die Tabelle ist als Python dictionary _critics_ implementiert. Die Keys des Python-Dictionary definieren die Namen von Personen (Zeilen in der Matrix), die Filme bewertet haben. Die Values sind selbst wieder Dictionarys, welche als Keys die Filmnamen (Spalten in der Matrix) und als Values die jeweilige Filmbewertung (Matrixelment) enthalten."
   ]
  },
  {
   "cell_type": "code",
   "execution_count": 6,
   "metadata": {},
   "outputs": [],
   "source": [
    "critics={'Lisa Rose': {'Lady in the Water': 2.5, 'Snakes on a Plane': 3.5,\n",
    " 'Just My Luck': 3.0, 'Superman Returns': 3.5, 'You, Me and Dupree': 2.5, \n",
    " 'The Night Listener': 3.0},\n",
    "'Gene Seymour': {'Lady in the Water': 3.0, 'Snakes on a Plane': 3.5, \n",
    " 'Just My Luck': 1.5, 'Superman Returns': 5.0, 'The Night Listener': 3.0, \n",
    " 'You, Me and Dupree': 3.5}, \n",
    "'Michael Phillips': {'Lady in the Water': 2.5, 'Snakes on a Plane': 3.0,\n",
    " 'Superman Returns': 3.5, 'The Night Listener': 4.0},\n",
    "'Claudia Puig': {'Snakes on a Plane': 3.5, 'Just My Luck': 3.0,\n",
    " 'The Night Listener': 4.5, 'Superman Returns': 4.0, \n",
    " 'You, Me and Dupree': 2.5},\n",
    "'Mick LaSalle': {'Lady in the Water': 3.0, 'Snakes on a Plane': 4.0, \n",
    " 'Just My Luck': 2.0, 'Superman Returns': 3.0, 'The Night Listener': 3.0,\n",
    " 'You, Me and Dupree': 2.0}, \n",
    "'Jack Matthews': {'Lady in the Water': 3.0, 'Snakes on a Plane': 4.0,\n",
    " 'The Night Listener': 3.0, 'Superman Returns': 5.0, 'You, Me and Dupree': 3.5},\n",
    "'Toby': {'Snakes on a Plane':4.5,'You, Me and Dupree':1.0,'Superman Returns':4.0}\n",
    "}"
   ]
  },
  {
   "cell_type": "markdown",
   "metadata": {},
   "source": [
    "### Ähnlichkeiten berechnen\n",
    "\n",
    "Für die Bestimmung der Ähnlichkeit zwischen Personen und Produkten werden in diesem Versuch ein auf der euklidischen Distanz basierendes Ähnlichkeitsmaß und die Pearson-Korrelation verwendet. Beide Ähnlichkeitsmaße sind in den unten definierten Funktionen implementiert. Alle drei hier implementierten Funktionen zur Berechnung der Ähnlichkeit erhalten als Übergabeparameter das oben definierte Dictionary, das die Filmbewertungen enthält und die Namen der zwei Personen, die verglichen werden sollen. \n",
    "\n",
    "Zu beachten ist, dass in beiden Funktionen für die Berechnung der Ähnlichkeit zwischen zwei Personen nur die Produkte berücksichtigt werden, welche von beiden Personen schon bewertet wurden. Es handelt sich hier also um modifizierte Ähnlichkeitsfunktionen. \n",
    "\n",
    "__Aufgabe:__\n",
    "Fragen Sie von diesem Dictionary _Toby's_ Bewertung des Films _Snakes on a Plane_ ab und geben Sie diesen Wert aus: "
   ]
  },
  {
   "cell_type": "code",
   "execution_count": 7,
   "metadata": {},
   "outputs": [
    {
     "name": "stdout",
     "output_type": "stream",
     "text": [
      "4.5\n"
     ]
    }
   ],
   "source": [
    "print(critics.get(\"Toby\").get(\"Snakes on a Plane\"))"
   ]
  },
  {
   "cell_type": "code",
   "execution_count": 8,
   "metadata": {},
   "outputs": [],
   "source": [
    "import numpy as np\n",
    "import scipy.spatial.distance as sci\n",
    "\n",
    "\n",
    "def sim_euclid(prefs,person1,person2,normed=True):\n",
    "    ''' Returns a euclidean-distance-based similarity score for \n",
    "    person1 and person2. In the distance calculation the sum is computed \n",
    "    only over those items, which are nonzero for both instances, i.e. only\n",
    "    films which are ranked by both persons are regarded.\n",
    "    If the parameter normed is True, then the euclidean distance is divided by\n",
    "    the number of non-zero elements integrated in the distance calculation. Thus\n",
    "    the effect of larger distances in the case of an increasing number of commonly ranked\n",
    "    items is avoided.\n",
    "    '''\n",
    "    # Get the list of shared_items\n",
    "    si={}\n",
    "    for item in prefs[person1]: \n",
    "        if item in prefs[person2]: \n",
    "            si[item] = 1\n",
    "            \n",
    "    # len(si) counts the number of common ratings\n",
    "    # if they have no ratings in common, return 0\n",
    "    if len(si) == 0: \n",
    "        return 0\n",
    "\n",
    "    # Add up the squares of all the differences\n",
    "    sum_of_squares=np.sqrt(sum([pow(prefs[person1][item]-prefs[person2][item],2) \n",
    "                     for item in prefs[person1] if item in prefs[person2]]))\n",
    "    if normed:\n",
    "        sum_of_squares= 1.0/len(si)*sum_of_squares\n",
    "    return 1/(1+sum_of_squares)\n",
    "\n",
    "\n",
    "def sim_pearson(prefs,p1,p2):\n",
    "    '''\n",
    "    Returns the Pearson correlation coefficient for p1 and p2\n",
    "    '''\n",
    "\n",
    "    # Get the list of commonly rated items\n",
    "    si={}\n",
    "    for item in prefs[p1]: \n",
    "        if item in prefs[p2]: \n",
    "            si[item]=1\n",
    "\n",
    "    # if they are no ratings in common, return 0\n",
    "    if len(si)==0: return 0\n",
    "\n",
    "    # Sum calculations\n",
    "    n=len(si)\n",
    "\n",
    "    # Calculate means of person 1 and 2\n",
    "    mp1=np.mean([prefs[p1][it] for it in si])\n",
    "    mp2=np.mean([prefs[p2][it] for it in si])\n",
    "\n",
    "    # Calculate standard deviation of person 1 and 2\n",
    "    sp1=np.std([prefs[p1][it] for it in si])\n",
    "    sp2=np.std([prefs[p2][it] for it in si])\n",
    "\n",
    "    # If all elements in one sample are identical, the standard deviation is 0. \n",
    "    # In this case there is no linear correlation between the samples\n",
    "    if sp1==0 or sp2==0:\n",
    "        return 0\n",
    "    r=1/(n*sp1*sp2)*sum([(prefs[p1][it]-mp1)*(prefs[p2][it]-mp2) for it in si])\n",
    "    return r\n",
    "\n",
    "\n",
    "def sim_RusselRao(prefs,person1,person2,normed=True):\n",
    "    ''' Returns RusselRao similaritiy between 2 users. The RusselRao similarity just counts the number\n",
    "    of common non-zero components of the two vectors and divides this number by N, where N is the length\n",
    "    of the vectors. If normed=False, the division by N is omitted.\n",
    "    '''\n",
    "    # Get the list of shared_items\n",
    "    si={}\n",
    "    commons=0\n",
    "    for item in prefs[person1]: \n",
    "        if prefs[person1][item]==1 and prefs[person2][item]==1:   \n",
    "            commons+=1\n",
    "    #print commons\n",
    "    if not normed:\n",
    "        return commons\n",
    "    else:\n",
    "        return commons*1.0/len(prefs[person1]) "
   ]
  },
  {
   "cell_type": "markdown",
   "metadata": {},
   "source": [
    "**Aufgabe:**\n",
    "1. Geben Sie die euklidische Ähnlichkeit und die Pearson Ähnlichkeit zwischen den Personen _Toby_ und _Lisa Rose_ aus.\n",
    "2. Diskutieren Sie die unterschiedlichen Ähnlichkeitswert."
   ]
  },
  {
   "cell_type": "markdown",
   "metadata": {},
   "source": [
    "1:"
   ]
  },
  {
   "cell_type": "code",
   "execution_count": 9,
   "metadata": {},
   "outputs": [
    {
     "name": "stdout",
     "output_type": "stream",
     "text": [
      "Euklidische Ähnlichkeit: 0.615911621788925\n",
      "Pearson Ähnlichkeit: 0.9912407071619302\n"
     ]
    }
   ],
   "source": [
    "# 1.\n",
    "print(\"Euklidische Ähnlichkeit:\", sim_euclid(critics, \"Toby\", \"Lisa Rose\"))\n",
    "print(\"Pearson Ähnlichkeit:\", sim_pearson(critics, \"Toby\", \"Lisa Rose\"))"
   ]
  },
  {
   "cell_type": "markdown",
   "metadata": {},
   "source": [
    "__Aufgabe:__\n",
    "0. Schreiben Sie eine Funktion `topMatches(prefs,person,similarity)`, welche für eine beliebige in _critics_ enthaltene Person die Ähnlichkeitswerte zu allen anderen Personen berechnet und in einer geordneten Liste zurück gibt. Der Funktion soll als Übergabeparameter auch die anzuwendende Ähnlichkeitsfunktion (`sim_euclid` oder `sim_pearson`) übergeben werden können. Berechnen Sie mit dieser Funktion für jede Person die *top matches*, zunächst unter Verwendung der euklidischen- dann unter Verwendung der Pearson-Ähnlichkeit.\n",
    "1. Geben Sie mit der implementierten Funktion die *top matches* der Person Toby aus.\n",
    "2. Vergleichen Sie die beiden Ähnlichkeitsmaße. Welches Ähnlichkeitsmaß erscheint Ihnen für diesen Anwendungsfall sinnvoller und warum?"
   ]
  },
  {
   "cell_type": "markdown",
   "metadata": {},
   "source": [
    "0:"
   ]
  },
  {
   "cell_type": "code",
   "execution_count": 10,
   "metadata": {},
   "outputs": [],
   "source": [
    "def topMatches(prefs,person,similarity): #f\n",
    "    aehn_dict = []\n",
    "    for pers in prefs:\n",
    "        if (pers != person):\n",
    "            aehn_dict.append((pers, similarity(prefs,person,pers)))\n",
    "    sorted_dict = sorted(aehn_dict, key=lambda x: x[1], reverse=True)\n",
    "    return sorted_dict"
   ]
  },
  {
   "cell_type": "code",
   "execution_count": 11,
   "metadata": {},
   "outputs": [
    {
     "name": "stdout",
     "output_type": "stream",
     "text": [
      "Top Matches Euklid:\n",
      "Lisa Rose : Mick LaSalle\n",
      "Gene Seymour : Jack Matthews\n",
      "Michael Phillips : Lisa Rose\n",
      "Claudia Puig : Michael Phillips\n",
      "Mick LaSalle : Lisa Rose\n",
      "Jack Matthews : Gene Seymour\n",
      "Toby : Mick LaSalle\n",
      "\n",
      "Top Matches Pearson:\n",
      "Lisa Rose : Toby\n",
      "Gene Seymour : Jack Matthews\n",
      "Michael Phillips : Claudia Puig\n",
      "Claudia Puig : Michael Phillips\n",
      "Mick LaSalle : Toby\n",
      "Jack Matthews : Gene Seymour\n",
      "Toby : Lisa Rose\n"
     ]
    }
   ],
   "source": [
    "testList = list(critics.keys())\n",
    "print(\"Top Matches Euklid:\")\n",
    "for p in testList:\n",
    "    print(p, \":\", topMatches(critics, p, sim_euclid)[0][0])\n",
    "    \n",
    "print(\"\\nTop Matches Pearson:\")\n",
    "for p in testList:\n",
    "    print(p, \":\", topMatches(critics, p, sim_pearson)[0][0])"
   ]
  },
  {
   "cell_type": "markdown",
   "metadata": {},
   "source": [
    "1:"
   ]
  },
  {
   "cell_type": "code",
   "execution_count": 12,
   "metadata": {},
   "outputs": [
    {
     "name": "stdout",
     "output_type": "stream",
     "text": [
      "Top Matches Toby Euklid:\n"
     ]
    },
    {
     "data": {
      "text/plain": [
       "[('Mick LaSalle', 0.6666666666666666),\n",
       " ('Claudia Puig', 0.6246387977050463),\n",
       " ('Lisa Rose', 0.615911621788925),\n",
       " ('Michael Phillips', 0.5584815598877471),\n",
       " ('Jack Matthews', 0.5227744249483389),\n",
       " ('Gene Seymour', 0.5108747069239427)]"
      ]
     },
     "metadata": {},
     "output_type": "display_data"
    },
    {
     "name": "stdout",
     "output_type": "stream",
     "text": [
      "Top Matches Toby Pearson:\n"
     ]
    },
    {
     "data": {
      "text/plain": [
       "[('Lisa Rose', 0.9912407071619302),\n",
       " ('Mick LaSalle', 0.9244734516419051),\n",
       " ('Claudia Puig', 0.8934051474415642),\n",
       " ('Jack Matthews', 0.6628489803598703),\n",
       " ('Gene Seymour', 0.3812464258315117),\n",
       " ('Michael Phillips', -1.0)]"
      ]
     },
     "metadata": {},
     "output_type": "display_data"
    }
   ],
   "source": [
    "print(\"Top Matches Toby Euklid:\")\n",
    "display(topMatches(critics,\"Toby\",sim_euclid)) \n",
    "print(\"Top Matches Toby Pearson:\")\n",
    "display(topMatches(critics,\"Toby\",sim_pearson))"
   ]
  },
  {
   "cell_type": "markdown",
   "metadata": {},
   "source": [
    "### Berechnung von Empfehlungen mit User basiertem Collaborative Filtering\n",
    "Für die Produkte, die von einer Person noch nicht gekauft wurden, sollen Empfehlungen berechnet werden. Die Empfehlungen können ebenfalls Werte zwischen 1 (wird nicht empfohlen) und 5 (wird stark empfohlen) annehmen. Für die Berechnung der Empfehlung werden die Bewertungen des jeweiligen Produkts durch die anderen Personen herangezogen. Dabei werden die Bewertungen der ähnlichen Personen (d.h. hoher Pearson-Korrelationswert) stärker mit einbezogen als die Bewertungen durch Personen mit einem niedrigen Korrelationswert.\n",
    "\n",
    "__Beispiel:__\n",
    "Toby hat die Filme *The Night Listener*, _Lady in the Water_ und _Just My Luck_ noch nicht gekauft. Für diese Filme soll für Toby eine Empfehlung berechnet werden.\n",
    "In der unten aufgeführten Tabelle enthält die zweite Spalte die _Pearson-Ähnlichkeitswerte_ zwischen Toby und den anderen Personen. Die Spalten 3, 5 und 7 enthalten die Bewertungen der Filme *The Night Listener*, _Lady in the Water_ und _Just My Luck_ durch die anderen Personen. Die Spalten 4, 6 und 8 enthalten die jeweilige Filmbewertung gewichtet (mulipliziert) mit den Ähnlichkeitswerten der jeweiligen Person. Es fällt auf, dass in der Tabelle _Michael_ nicht enthalten ist. Das liegt daran, dass _Michael_ und _Toby_ einen negativen Ähnlichkeitswert aufweisen, d.h. deren Interessen sind gegenläufig. Personen mit negativem Ähnlichkeitswert sollten für Empfehlungen nicht berücksichtigt werden.\n",
    "Die Zeile _Sum_ enthält die Summe aller gewichteten Bewertungen. Aus diesem Wert allein kann die Empfehlung noch nicht abgeleitet werden, da Filme die nur von wenigen Personen bewertet wurden, eine relativ kleine Summe ergeben. Deshalb sollte _Sum_ noch durch die Anzahl der Bewertungen für diesen Film geteilt werden. Oder besser: Nicht durch die Summe der Bewertungen, sondern durch die Summe der relevanten Ähnlichkeitswerte (*KSum*). Der resultierende Empfehlungswert ist in der letzten Zeile eingetragen.\n",
    "\n",
    "\n",
    "\n",
    "<img src=\"https://maucher.home.hdm-stuttgart.de/Pics/recommenderFilmCalculation.PNG\" style=\"width:500px\" align=\"center\">\n",
    "\n",
    "\n"
   ]
  },
  {
   "cell_type": "markdown",
   "metadata": {},
   "source": [
    "__Aufgabe:__\n",
    "Schreiben Sie eine Funktion *getRecommendations(prefs,person,similarity)*, mit der die Empfehlungswerte berechnet werden können und bestimmen Sie die Empfehlungswerte für Toby. Der Funktion wird  \n",
    "\n",
    "* das Dictionary _critics_ mit den Filmbewertungen, \n",
    "* der Name der Person, für welche Empfehlungen berechnet werden sollen\n",
    "* die Methode für die Berechnung der Ähnlichkeit *sim_euclid* oder *sim_pearson*\n",
    "\n",
    "übergeben. Die Methode soll eine geordnete Liste zurück geben. Jedes Listenelement enthält an erster Stelle den berechneten Empfehlungswert und an zweiter Stelle den Namen des Films. Die Liste soll nach Empfehlungswerten absteigend geordnet sein.\n",
    "\n",
    "Testen Sie diese Funktion indem Sie die Empfehlungen für _Toby_ berechnen und mit den Werten in der oben aufgeführten Tabelle vergleichen."
   ]
  },
  {
   "cell_type": "code",
   "execution_count": 13,
   "metadata": {},
   "outputs": [],
   "source": [
    "def getRecommendations(prefs,person,similarity):\n",
    "    unseen = []\n",
    "    for pref in prefs:\n",
    "        for movie in prefs.get(pref):\n",
    "            if movie not in unseen:\n",
    "                unseen.append(movie)         \n",
    "    for seen_film in prefs.get(person):\n",
    "        if prefs.get(person).get(seen_film) != 0:\n",
    "            if (seen_film in unseen):\n",
    "                unseen.remove(seen_film)\n",
    "    recom_list = []\n",
    "    for movie in unseen:\n",
    "        movie_scores = []\n",
    "        sim_scores = []\n",
    "        for other_person in prefs:\n",
    "            if other_person != person:\n",
    "                s_score = similarity(prefs,person,other_person)\n",
    "                if ((s_score >= 0) & (movie in prefs.get(other_person))) :\n",
    "                    m_score = prefs.get(other_person).get(movie)\n",
    "                    sim_scores.append(s_score)\n",
    "                    movie_scores.append(s_score * m_score)         \n",
    "        movie_sum = np.sum(movie_scores)\n",
    "        score_sum = np.sum(sim_scores)\n",
    "        recom_list.append(((movie_sum/score_sum), movie ))\n",
    "    return sorted(recom_list,key=lambda x: x[0], reverse=True)"
   ]
  },
  {
   "cell_type": "code",
   "execution_count": 14,
   "metadata": {},
   "outputs": [
    {
     "data": {
      "text/plain": [
       "[(3.3477895267131004, 'The Night Listener'),\n",
       " (2.832549918264161, 'Lady in the Water'),\n",
       " (2.530980703765564, 'Just My Luck')]"
      ]
     },
     "execution_count": 14,
     "metadata": {},
     "output_type": "execute_result"
    }
   ],
   "source": [
    "getRecommendations(critics,\"Toby\",sim_pearson)"
   ]
  },
  {
   "cell_type": "markdown",
   "metadata": {},
   "source": [
    "### Berechnung von Empfehlungen mit Item basiertem Collaborative Filtering\n",
    "In den vorigen Aufgaben wurden Ähnlichkeiten zwischen Personen bestimmt und für Produktempfehlungen benutzt (User basiertes Collaborative Filtering). Jetzt soll die Ähnlichkeit zwischen Produkten berechnet werden und auf der Basis dieser Produktähnlichkeit Empfehlungen berechnet werden (Item basiertes Collaborative Filtering).\n",
    "\n",
    "Dabei sollen die bereits implementierten Ähnlichkeitsfunktion *sim_euclid* und *sim_pearson* sowie die Ähnlichkeeits-Sortierfunktion *topMatches* unverändert eingesetzt werden.\n",
    "\n",
    "__Aufgabe:__\n",
    "\n",
    "1. Implementieren Sie eine Funktion, welche das Bewertungsdictionary *critics* derart transformiert, dass die Funktionen `sim_euclid`, `sim_pearson` und `topMatches` für das Item-basierte CF unverändert eingesetzt werden können. Die transformierte Matrix soll unter dem Namen *transCritics* abgespeichert werden.\n",
    "2. Schreiben Sie eine Funktion `calculateSimilarItems`, die aus der transformierten Matrix *transCritics* ein Dictionary berechnet, welches die Ähnlichkeit zwischen allen Filmen beschreibt. Die Keys des Dictionary sind die Filmnamen. Die Values sind geordnete Listen, welche die Funktion `topMatches` zurückgibt, wenn sie für die Filme (nicht für die User) aufgerufen wird. Dieses Dictionary wird an das aufrufende Programm zurück geben. \n",
    "3. Schreiben Sie eine Funktion `getRecommendedItems`, welche basierend auf dem im unten aufgeführten Beispiel dargestellten Verfahren unter Vorgabe der Bewertungsmatrix und der zu verwendenden Ähnlichkeitsfunktion Produktempfehlungen berechnet.\n",
    "4. Testen Sie die Funktion indem Sie die Empfehlungen für Toby berechnen und mit den Werten in der unten aufgeführten Tabelle vergleichen\n",
    "\n",
    "__Erläuterndes Beispiel:__\n",
    "\n",
    "_Toby_ hat die Filme *The Night Listener*, *Lady in the Water* und *Just My Luck* noch nicht gekauft. Für diese Filme soll für *Toby* eine Empfehlung berechnet werden. Gekauft und bewertet hat *Toby* die Filme *Snakes on a plane*, *Superman Returns* und *You and me and Dupree*. Diese bereits vorhandenen Filme bilden die erste Spalte der unten dargestellten Matrix. In der zweiten Spalte befinden sich _Toby's_ Bewertungen dieser Filme. Die Spalten 3,5 und 7 enthalten die Ähnlichkeitswerte (mit *calculateSimilarItems* unter Verwendung des normierten euklidischen Ähnlichkeitsmaßes berechnet) zwischen den drei von *Toby* noch nicht gekauften Filmen und den drei von _Toby_ bewerteten Filmen. Diese Ähnlichkeitswerte werden jeweils mit _Toby's_ Bewertungen multipliziert. Das Resultat dieser Multiplikation befindet sich in den Spalten 4,6 und 8. Der finale Empfehlungswert für die von _Toby_ noch nicht gekauften Filme wird berechnet in dem in den Spalten 4,6 und 8 zunächst die Summe über die Werte dieser Spalte in den drei oberen Zeilen berechnet wird und durch die Summe über die Werte der Spalten 3,5 und 7 geteilt wird. Im Fall, dass die *Pearson-Korrelation* zwischen den Filmen als Ähnlichkeitswert herangezogen wird, können negative Ähnlichkeitswerte auftreten. Dann soll in die Berechnung eines Empfehlungswert für Film A nur dann die Bewertung von Film B einfließen, wenn der Korrelationswert zwischen beiden $>0$ ist.  \n",
    "\n",
    "\n",
    "<img src=\"https://maucher.home.hdm-stuttgart.de/Pics/recommenderFilmItemBased.PNG\" style=\"width:500px\" align=\"center\">\n"
   ]
  },
  {
   "cell_type": "markdown",
   "metadata": {},
   "source": [
    "1:"
   ]
  },
  {
   "cell_type": "code",
   "execution_count": 15,
   "metadata": {},
   "outputs": [],
   "source": [
    "def transformCritics(prefs):\n",
    "    movies = []\n",
    "    transCritics = {}\n",
    "    for person in prefs:\n",
    "        for movie in prefs.get(person):\n",
    "            if movie not in movies:\n",
    "                movies.append(movie)\n",
    "    for movie in movies:\n",
    "        temp_dict = {}\n",
    "        for person in prefs:\n",
    "            \n",
    "            score = prefs.get(person).get(movie)\n",
    "            if(score != None):\n",
    "                temp_dict.update({person: score})\n",
    "        transCritics.update({movie: temp_dict})\n",
    "        \n",
    "    \n",
    "    return transCritics"
   ]
  },
  {
   "cell_type": "code",
   "execution_count": 16,
   "metadata": {},
   "outputs": [
    {
     "data": {
      "text/plain": [
       "{'Lady in the Water': {'Lisa Rose': 2.5,\n",
       "  'Gene Seymour': 3.0,\n",
       "  'Michael Phillips': 2.5,\n",
       "  'Mick LaSalle': 3.0,\n",
       "  'Jack Matthews': 3.0},\n",
       " 'Snakes on a Plane': {'Lisa Rose': 3.5,\n",
       "  'Gene Seymour': 3.5,\n",
       "  'Michael Phillips': 3.0,\n",
       "  'Claudia Puig': 3.5,\n",
       "  'Mick LaSalle': 4.0,\n",
       "  'Jack Matthews': 4.0,\n",
       "  'Toby': 4.5},\n",
       " 'Just My Luck': {'Lisa Rose': 3.0,\n",
       "  'Gene Seymour': 1.5,\n",
       "  'Claudia Puig': 3.0,\n",
       "  'Mick LaSalle': 2.0},\n",
       " 'Superman Returns': {'Lisa Rose': 3.5,\n",
       "  'Gene Seymour': 5.0,\n",
       "  'Michael Phillips': 3.5,\n",
       "  'Claudia Puig': 4.0,\n",
       "  'Mick LaSalle': 3.0,\n",
       "  'Jack Matthews': 5.0,\n",
       "  'Toby': 4.0},\n",
       " 'You, Me and Dupree': {'Lisa Rose': 2.5,\n",
       "  'Gene Seymour': 3.5,\n",
       "  'Claudia Puig': 2.5,\n",
       "  'Mick LaSalle': 2.0,\n",
       "  'Jack Matthews': 3.5,\n",
       "  'Toby': 1.0},\n",
       " 'The Night Listener': {'Lisa Rose': 3.0,\n",
       "  'Gene Seymour': 3.0,\n",
       "  'Michael Phillips': 4.0,\n",
       "  'Claudia Puig': 4.5,\n",
       "  'Mick LaSalle': 3.0,\n",
       "  'Jack Matthews': 3.0}}"
      ]
     },
     "execution_count": 16,
     "metadata": {},
     "output_type": "execute_result"
    }
   ],
   "source": [
    "transCritics = transformCritics(critics)\n",
    "transCritics"
   ]
  },
  {
   "cell_type": "markdown",
   "metadata": {},
   "source": [
    "2:"
   ]
  },
  {
   "cell_type": "code",
   "execution_count": 17,
   "metadata": {},
   "outputs": [],
   "source": [
    "def calculateSimilarItems(prefs,similarity):\n",
    "    sim_dict={}\n",
    "    for movie in prefs:\n",
    "        matches = topMatches(prefs,movie,similarity)\n",
    "        sim_dict[movie] = matches\n",
    "    return sim_dict"
   ]
  },
  {
   "cell_type": "code",
   "execution_count": 18,
   "metadata": {},
   "outputs": [
    {
     "data": {
      "text/plain": [
       "{'Lady in the Water': [('You, Me and Dupree', 0.7655876216850789),\n",
       "  ('The Night Listener', 0.7597469266479578),\n",
       "  ('Snakes on a Plane', 0.7277142573518672),\n",
       "  ('Just My Luck', 0.615911621788925),\n",
       "  ('Superman Returns', 0.6125741132772068)],\n",
       " 'Snakes on a Plane': [('Superman Returns', 0.7578982763068516),\n",
       "  ('The Night Listener', 0.7387961250362586),\n",
       "  ('Lady in the Water', 0.7277142573518672),\n",
       "  ('You, Me and Dupree', 0.5824585256498355),\n",
       "  ('Just My Luck', 0.5784128280412532)],\n",
       " 'Just My Luck': [('You, Me and Dupree', 0.6534537935444722),\n",
       "  ('The Night Listener', 0.6303969981288705),\n",
       "  ('Lady in the Water', 0.615911621788925),\n",
       "  ('Snakes on a Plane', 0.5784128280412532),\n",
       "  ('Superman Returns', 0.5123025255147889)],\n",
       " 'Superman Returns': [('Snakes on a Plane', 0.7578982763068516),\n",
       "  ('The Night Listener', 0.6697893816771064),\n",
       "  ('Lady in the Water', 0.6125741132772068),\n",
       "  ('You, Me and Dupree', 0.5874822290669),\n",
       "  ('Just My Luck', 0.5123025255147889)],\n",
       " 'You, Me and Dupree': [('Lady in the Water', 0.7655876216850789),\n",
       "  ('The Night Listener', 0.6758660359334131),\n",
       "  ('Just My Luck', 0.6534537935444722),\n",
       "  ('Superman Returns', 0.5874822290669),\n",
       "  ('Snakes on a Plane', 0.5824585256498355)],\n",
       " 'The Night Listener': [('Lady in the Water', 0.7597469266479578),\n",
       "  ('Snakes on a Plane', 0.7387961250362586),\n",
       "  ('You, Me and Dupree', 0.6758660359334131),\n",
       "  ('Superman Returns', 0.6697893816771064),\n",
       "  ('Just My Luck', 0.6303969981288705)]}"
      ]
     },
     "execution_count": 18,
     "metadata": {},
     "output_type": "execute_result"
    }
   ],
   "source": [
    "calculateSimilarItems(transCritics,sim_euclid)"
   ]
  },
  {
   "cell_type": "markdown",
   "metadata": {},
   "source": [
    "3:"
   ]
  },
  {
   "cell_type": "code",
   "execution_count": 19,
   "metadata": {},
   "outputs": [],
   "source": [
    "def getRecommendedItems(prefs,person,similarity):\n",
    "    recom_dict = {}\n",
    "    unseen = []\n",
    "    seen_score = []\n",
    "    for person in prefs:\n",
    "        for movie in prefs.get(person):\n",
    "            if movie not in unseen:\n",
    "                unseen.append(movie)\n",
    "    for seen,score in prefs.get(person).items():\n",
    "        if (seen in unseen):\n",
    "            unseen.remove(seen)\n",
    "            seen_score.append((seen,score))\n",
    "            \n",
    "    sim_dict = calculateSimilarItems(transformCritics(prefs),similarity)\n",
    "\n",
    "    for unseen_movie in unseen:\n",
    "        unseen_sim_sum = 0\n",
    "        unseen_prod_sum = 0\n",
    "        for movie,score in seen_score:\n",
    "            movs = sim_dict.get(unseen_movie)\n",
    "            for mov in movs:\n",
    "                if (mov[0] == movie):\n",
    "                    sim_score = mov[1]       \n",
    "            if sim_score >= 0:\n",
    "                unseen_sim_sum += sim_score\n",
    "                prod_score = sim_score * score\n",
    "                unseen_prod_sum += prod_score\n",
    "            \n",
    "            if unseen_sim_sum != 0 :\n",
    "                recom_score = unseen_prod_sum/unseen_sim_sum\n",
    "            else:\n",
    "                recom_score = 0\n",
    "        recom_dict.update({unseen_movie: recom_score})\n",
    "        \n",
    "    return recom_dict"
   ]
  },
  {
   "cell_type": "markdown",
   "metadata": {},
   "source": [
    "4:"
   ]
  },
  {
   "cell_type": "code",
   "execution_count": 20,
   "metadata": {},
   "outputs": [
    {
     "data": {
      "text/plain": [
       "{'Lady in the Water': 3.082136961799338,\n",
       " 'Just My Luck': 3.041861869079099,\n",
       " 'The Night Listener': 3.20449096016088}"
      ]
     },
     "execution_count": 20,
     "metadata": {},
     "output_type": "execute_result"
    }
   ],
   "source": [
    "getRecommendedItems(critics,\"Toby\",sim_euclid) # Werte stimmen mit Tabelle überein"
   ]
  },
  {
   "cell_type": "markdown",
   "metadata": {
    "slideshow": {
     "slide_type": "slide"
    }
   },
   "source": [
    "## last.fm Musikempfehlungen\n",
    "\n",
    "__Aufgabe:__\n",
    "\n",
    "1. Installieren Sie das Package pylast. Stellen Sie durch Aufruf der Funktion *network=pylast.LastFMNetwork()* eine Verbindung zu *last.fm* her. Beim Aufruf der Funktion wird die Anmeldung und Authentifizierung durchgeführt. Die Funktion gibt ein Objekt der Klasse *Network* zurück. Über dieses Objekt können Methoden, wie\n",
    "\n",
    "    * *get_artist(\"kuenstlerName\")* (liefert Objekt der Klasse *Artist*)\n",
    "    * *get_album(\"albumName\")* (liefert Objekt der Klasse *Album*)\n",
    "    * *get_track(\"songName\")* (liefert Objekt der Klasse *Track*)\n",
    "    * *get_user(\"userName\"):* (liefert Objekt der Klasse *Tag*)\n",
    "    * usw.\n",
    "    \n",
    "      aufgerufen werden. Die Menge aller verfügbaren Klassen und deren Attribute und Methoden können dem Modul _pylast.py_ entnommen werden. In der untenstehenden Codel Zelle können Sie beispielsweise über das *Network*-Objekt die Methode `get_artist(\"BandIhrerWahl\")` aufrufen um die von lastFM berechneten ähnlichsten Bands anzuzeigen.\n",
    "\n",
    "2. Führen Sie die untenstehende Code Zelle aus um eine vordefinierte Gruppe von Benutzern, passend zu Band 'Slipknot' zu bekommen. Falls Sie ein lastfm Konto haben können Sie manuell auch andere Bands und Benutzer eintragen.\n",
    "3. Implementieren Sie eine Funktion `createLastfmUserDict()`. Dieser Funktion soll, die oben angelegte Liste von *User*-Objekten _group_ übergeben werden. Für jeden User in *group* sollen die 20 beliebtesten Bands mit der Methode `topartists=*User*.get_top_artists()[0:20]` bestimmt werden. Die Methode gibt eine Liste von *Artist*-Objekt/Gewichtung-Paaren zurück. Die Gewichtungen von Objekten werden in diesem Versuch nicht benötigt. Auf das *i.te* *Artist*-Objekt selbst kann mit `topartists[i].item` zugegriffen werden. Die Menge aller Bands, die auf diese Weise gesammelt werden, wird im folgenden mit _AllBands_ bezeichnet. D.h. in *AllBands* befinden sich alle Bands, die für mindestens einen User in *group* zu den Top-20 gehören. Nun soll ein verschachteltes Dictionary mit Namen *userDict* wie folgt angelegt werden:\n",
    "\n",
    "    * Die Keys sind die Namen der _User_-Objekte in _group_. Auf den Namen eines Objekts kann mit `get_name()` zugegriffen werden.\n",
    "    * Die Values sind selbst wieder Dictionaries, deren Keys die Namen der Bands in *AllBands* sind. Achten Sie auch hier darauf, dass Sie nicht das *Artist*-Objekt selbst, sondern dessen Namen als Key verwenden. \n",
    "    * Für den User *a* und die Band *b* ist der Value `userDict[a][b]= 1`, falls *b* zu den Top-20 des Users *a* gehört. Andernfalls ist `userDict[a][b]= 0`. \n",
    "    \n",
    "    Das derart angelegte Dictionary soll von der Funktion zurückgegeben werden. \n",
    "4. Wählen Sie jetzt einen beliebigen User aus *group*. Bestimmen Sie zu diesem User die ähnlichsten User in *group* durch Anwendung der im ersten Teilversuch implementierten Funktion `topMatches()`. Der Funktion wird das angelegte *userDict* und der Name des gewählten Users übergeben. Als Ähnlichkeitsmaß soll die euklidische Metrik angewandt werden.\n",
    "5. Bestimmen Sie dann für den gewählten User Band-Empfehlungen durch Anwendung der im ersten Teilversuch implementierten Funktion `getRecommendations()`. Der Funktion wird das angelegte *userDict* und der Name des gewählten Users übergeben. Als Ähnlichkeitsmaß soll die euklidische Metrik, danach die Russel_Rao Metrik, angewandt werden.     \n",
    "6. Diskutieren Sie das Ergebnis"
   ]
  },
  {
   "cell_type": "markdown",
   "metadata": {},
   "source": [
    "1: und 2:"
   ]
  },
  {
   "cell_type": "code",
   "execution_count": 21,
   "metadata": {},
   "outputs": [
    {
     "name": "stdout",
     "output_type": "stream",
     "text": [
      "Most similar (as calculated by lastFM) for artist:  Slipknot\n",
      "1.000 \t Korn\n",
      "0.765 \t Stone Sour\n",
      "0.632 \t System of a Down\n",
      "0.598 \t Mudvayne\n",
      "0.539 \t Vended\n",
      "\n",
      "Apply predefined group of users\n",
      "[pylast.User('BrunoJoS', pylast.LastFMNetwork('993a5bd9d79a98a53677570368d55acd', '9b8de0b57903ac007cdd8ec9003b341e', '', 'pythonlab', '')), pylast.User('DPREBOYE', pylast.LastFMNetwork('993a5bd9d79a98a53677570368d55acd', '9b8de0b57903ac007cdd8ec9003b341e', '', 'pythonlab', '')), pylast.User('MPistol40', pylast.LastFMNetwork('993a5bd9d79a98a53677570368d55acd', '9b8de0b57903ac007cdd8ec9003b341e', '', 'pythonlab', '')), pylast.User('NemoNightfall', pylast.LastFMNetwork('993a5bd9d79a98a53677570368d55acd', '9b8de0b57903ac007cdd8ec9003b341e', '', 'pythonlab', '')), pylast.User('SkyRif', pylast.LastFMNetwork('993a5bd9d79a98a53677570368d55acd', '9b8de0b57903ac007cdd8ec9003b341e', '', 'pythonlab', '')), pylast.User('Wags1382', pylast.LastFMNetwork('993a5bd9d79a98a53677570368d55acd', '9b8de0b57903ac007cdd8ec9003b341e', '', 'pythonlab', '')), pylast.User('Znapsen', pylast.LastFMNetwork('993a5bd9d79a98a53677570368d55acd', '9b8de0b57903ac007cdd8ec9003b341e', '', 'pythonlab', '')), pylast.User('cortapsyco', pylast.LastFMNetwork('993a5bd9d79a98a53677570368d55acd', '9b8de0b57903ac007cdd8ec9003b341e', '', 'pythonlab', '')), pylast.User('emill_67', pylast.LastFMNetwork('993a5bd9d79a98a53677570368d55acd', '9b8de0b57903ac007cdd8ec9003b341e', '', 'pythonlab', '')), pylast.User('sattuviitana', pylast.LastFMNetwork('993a5bd9d79a98a53677570368d55acd', '9b8de0b57903ac007cdd8ec9003b341e', '', 'pythonlab', ''))]\n"
     ]
    }
   ],
   "source": [
    "import pylast\n",
    "nw=pylast.LastFMNetwork(api_key = \"993a5bd9d79a98a53677570368d55acd\",api_secret = \"9b8de0b57903ac007cdd8ec9003b341e\",username = \"pythonlab\")\n",
    "band='Slipknot'\n",
    "art1 = nw.get_artist(band)\n",
    "print(\"Most similar (as calculated by lastFM) for artist: \",band)\n",
    "for it in art1.get_similar(5):\n",
    "    print(\"%3.3f \\t %s\"%(it.match, it.item))\n",
    "\n",
    "print(\"\\nApply predefined group of users\")\n",
    "usernames=['BrunoJoS','DPREBOYE','MPistol40','NemoNightfall','SkyRif','Wags1382','Znapsen','cortapsyco','emill_67','sattuviitana']\n",
    "group=[]\n",
    "for u in usernames:\n",
    "    u1 = nw.get_user(u)\n",
    "    group.append(u1)\n",
    "print(group)"
   ]
  },
  {
   "cell_type": "markdown",
   "metadata": {},
   "source": [
    "3:"
   ]
  },
  {
   "cell_type": "code",
   "execution_count": 22,
   "metadata": {},
   "outputs": [],
   "source": [
    "def createLastfmUserDict(group = group):\n",
    "    allBands = []\n",
    "    userDict = {}\n",
    "    for user in group:\n",
    "        topartists = user.get_top_artists()[0:20]\n",
    "        userDict[user.get_name()] = {}\n",
    "        for artist in topartists:\n",
    "            userDict[user.get_name()].update({artist.item.get_name(): 1})\n",
    "            if artist.item.get_name() not in allBands:\n",
    "                allBands.append(artist.item.get_name())\n",
    "    for band in allBands:\n",
    "        for key in userDict:\n",
    "            if band not in userDict[key]:\n",
    "                userDict[key].update({band: 0})\n",
    "    for key in userDict:\n",
    "        userDict[key] = dict(sorted(userDict[key].items()))\n",
    "    return userDict"
   ]
  },
  {
   "cell_type": "code",
   "execution_count": 23,
   "metadata": {},
   "outputs": [],
   "source": [
    "userDict = createLastfmUserDict(group)"
   ]
  },
  {
   "cell_type": "markdown",
   "metadata": {},
   "source": [
    "4:"
   ]
  },
  {
   "cell_type": "code",
   "execution_count": 24,
   "metadata": {},
   "outputs": [
    {
     "data": {
      "text/plain": [
       "[('NemoNightfall', 0.9659253562958626),\n",
       " ('SkyRif', 0.9636581744069851),\n",
       " ('emill_67', 0.9625815550508859),\n",
       " ('sattuviitana', 0.9625815550508859),\n",
       " ('DPREBOYE', 0.9615384615384615),\n",
       " ('MPistol40', 0.9615384615384615),\n",
       " ('Znapsen', 0.9615384615384615),\n",
       " ('cortapsyco', 0.9615384615384615),\n",
       " ('Wags1382', 0.9605261285528738)]"
      ]
     },
     "execution_count": 24,
     "metadata": {},
     "output_type": "execute_result"
    }
   ],
   "source": [
    "topMatches(userDict, 'BrunoJoS', sim_euclid)"
   ]
  },
  {
   "cell_type": "markdown",
   "metadata": {},
   "source": [
    "5:"
   ]
  },
  {
   "cell_type": "code",
   "execution_count": 25,
   "metadata": {},
   "outputs": [
    {
     "data": {
      "text/plain": [
       "[(0.5555549242855998, 'Korn'),\n",
       " (0.44480281354997675, 'Five Finger Death Punch'),\n",
       " (0.44442062761823037, 'Rage Against the Machine'),\n",
       " (0.33379281734763366, 'Stone Sour'),\n",
       " (0.33340676070899766, 'Metallica'),\n",
       " (0.33340676070899766, 'Red Hot Chili Peppers'),\n",
       " (0.2226546499733747, 'Trivium'),\n",
       " (0.22239289379976498, 'Sabaton'),\n",
       " (0.22227246404162834, 'Lamb of God'),\n",
       " (0.22214816357660205, 'Avenged Sevenfold'),\n",
       " (0.22214816357660205, 'In Flames'),\n",
       " (0.22214816357660205, 'Pink Floyd'),\n",
       " (0.22202773381846538, 'Limp Bizkit'),\n",
       " (0.22202773381846538, 'Pendulum'),\n",
       " (0.2219108554991623, 'Coheed and Cambria'),\n",
       " (0.11152035330600535, 'Alexisonfire'),\n",
       " (0.11152035330600535, 'All Time Low'),\n",
       " (0.11152035330600535, 'Ben Howard'),\n",
       " (0.11152035330600535, 'Billy Talent'),\n",
       " (0.11152035330600535, 'Breaking Benjamin'),\n",
       " (0.11152035330600535, 'Bring Me the Horizon'),\n",
       " (0.11152035330600535, 'Bullet for My Valentine'),\n",
       " (0.11152035330600535, 'Memphis May Fire'),\n",
       " (0.11152035330600535, 'Mumford & Sons'),\n",
       " (0.11152035330600535, 'Oh, Sleeper'),\n",
       " (0.11152035330600535, 'Sick Puppies'),\n",
       " (0.11125859713239564, 'Amon Amarth'),\n",
       " (0.11125859713239564, 'Arch Enemy'),\n",
       " (0.11125859713239564, 'DragonForce'),\n",
       " (0.11125859713239564, 'Hans Zimmer'),\n",
       " (0.11125859713239564, 'Howard Shore'),\n",
       " (0.11125859713239564, 'Pentakill'),\n",
       " (0.11125859713239564, 'Powerwolf'),\n",
       " (0.11125859713239564, 'Tenacious D'),\n",
       " (0.11125859713239564, 'Wintersun'),\n",
       " (0.11113429666736935, 'Amorphis'),\n",
       " (0.11113429666736935, 'Boston'),\n",
       " (0.11113429666736935, 'Children of Bodom'),\n",
       " (0.11113429666736935, 'Disturbed'),\n",
       " (0.11113429666736935, 'Electric Light Orchestra'),\n",
       " (0.11113429666736935, 'Epic Rap Battles of History'),\n",
       " (0.11113429666736935, 'Evanescence'),\n",
       " (0.11113429666736935, 'Iron Maiden'),\n",
       " (0.11113429666736935, 'Klamydia'),\n",
       " (0.11113429666736935, 'Lindemann'),\n",
       " (0.11113429666736935, 'Nightwish'),\n",
       " (0.11113429666736935, 'Queen'),\n",
       " (0.11113429666736935, 'Rob Zombie'),\n",
       " (0.11113429666736935, 'Seether'),\n",
       " (0.11113429666736935, 'Shinedown'),\n",
       " (0.11113429666736935, 'Sonata Arctica'),\n",
       " (0.11113429666736935, 'Stam1na'),\n",
       " (0.11113429666736935, 'Theory of a Deadman'),\n",
       " (0.11113429666736935, 'Turmion Kätilöt'),\n",
       " (0.11113429666736935, 'Volbeat'),\n",
       " (0.11113429666736935, 'Ween'),\n",
       " (0.11113429666736935, 'deadmau5'),\n",
       " (0.11101386690923269, '36 Crazyfists'),\n",
       " (0.11101386690923269, 'A Perfect Circle'),\n",
       " (0.11101386690923269, 'Atoms for Peace'),\n",
       " (0.11101386690923269, 'Beach House'),\n",
       " (0.11101386690923269, 'Becoming the Archetype'),\n",
       " (0.11101386690923269, 'Black Label Society'),\n",
       " (0.11101386690923269, 'Black Veil Brides'),\n",
       " (0.11101386690923269, 'Calvin Harris'),\n",
       " (0.11101386690923269, 'Cat Power'),\n",
       " (0.11101386690923269, 'Cradle of Filth'),\n",
       " (0.11101386690923269, 'DIR EN GREY'),\n",
       " (0.11101386690923269, 'Damien Rice'),\n",
       " (0.11101386690923269, 'Dark Tranquillity'),\n",
       " (0.11101386690923269, 'Daughter'),\n",
       " (0.11101386690923269, 'Deftones'),\n",
       " (0.11101386690923269, 'Demon Hunter'),\n",
       " (0.11101386690923269, 'Die Antwoord'),\n",
       " (0.11101386690923269, 'Dimmu Borgir'),\n",
       " (0.11101386690923269, 'Dmitri Shostakovich'),\n",
       " (0.11101386690923269, 'Dope'),\n",
       " (0.11101386690923269, 'Dr. Dre'),\n",
       " (0.11101386690923269, 'Flo Rida'),\n",
       " (0.11101386690923269, 'Freestyle'),\n",
       " (0.11101386690923269, 'Godsmack'),\n",
       " (0.11101386690923269, 'Gyllene Tider'),\n",
       " (0.11101386690923269, 'Halestorm'),\n",
       " (0.11101386690923269, 'Hozier'),\n",
       " (0.11101386690923269, 'James Blake'),\n",
       " (0.11101386690923269, 'Katy Perry'),\n",
       " (0.11101386690923269, 'Ke$ha'),\n",
       " (0.11101386690923269, 'Killswitch Engage'),\n",
       " (0.11101386690923269, 'Krewella'),\n",
       " (0.11101386690923269, 'Lacuna Coil'),\n",
       " (0.11101386690923269, 'Machine Head'),\n",
       " (0.11101386690923269, 'Magnus Uggla'),\n",
       " (0.11101386690923269, 'Marina and the Diamonds'),\n",
       " (0.11101386690923269, 'Mogwai'),\n",
       " (0.11101386690923269, 'Mustasch'),\n",
       " (0.11101386690923269, 'N.W.A'),\n",
       " (0.11101386690923269, 'Nine Inch Nails'),\n",
       " (0.11101386690923269, 'Nirvana'),\n",
       " (0.11101386690923269, 'Nobuo Uematsu'),\n",
       " (0.11101386690923269, 'P.D.P.'),\n",
       " (0.11101386690923269, 'Panic! at the Disco'),\n",
       " (0.11101386690923269, 'Pantera'),\n",
       " (0.11101386690923269, 'Scar Symmetry'),\n",
       " (0.11101386690923269, 'Soilwork'),\n",
       " (0.11101386690923269, 'Soulfly'),\n",
       " (0.11101386690923269, 'Team Sleep'),\n",
       " (0.11101386690923269, 'The Band'),\n",
       " (0.11101386690923269, 'The White Stripes'),\n",
       " (0.11101386690923269, 'Tool'),\n",
       " (0.11101386690923269, 'Warpaint'),\n",
       " (0.11101386690923269, 'White Zombie'),\n",
       " (0.11101386690923269, 'Wu-Tang Clan'),\n",
       " (0.11089698858992963, 'AFI'),\n",
       " (0.11089698858992963, 'Bayside'),\n",
       " (0.11089698858992963, 'Circa Survive'),\n",
       " (0.11089698858992963, 'Cruel Hand'),\n",
       " (0.11089698858992963, 'Energy'),\n",
       " (0.11089698858992963, 'Evergreen Terrace'),\n",
       " (0.11089698858992963, 'Fall Out Boy'),\n",
       " (0.11089698858992963, 'Four Year Strong'),\n",
       " (0.11089698858992963, 'Gallows'),\n",
       " (0.11089698858992963, 'Misfits'),\n",
       " (0.11089698858992963, 'Motion City Soundtrack'),\n",
       " (0.11089698858992963, 'My Chemical Romance'),\n",
       " (0.11089698858992963, 'New Found Glory'),\n",
       " (0.11089698858992963, 'Parkway Drive'),\n",
       " (0.11089698858992963, 'Saosin'),\n",
       " (0.11089698858992963, 'The Dear Hunter'),\n",
       " (0.11089698858992963, 'The Wonder Years'),\n",
       " (0.11089698858992963, 'blink-182')]"
      ]
     },
     "execution_count": 25,
     "metadata": {},
     "output_type": "execute_result"
    }
   ],
   "source": [
    "getRecommendations(userDict, 'BrunoJoS', sim_euclid)"
   ]
  },
  {
   "cell_type": "code",
   "execution_count": 26,
   "metadata": {
    "scrolled": true
   },
   "outputs": [
    {
     "data": {
      "text/plain": [
       "[(0.56, 'Five Finger Death Punch'),\n",
       " (0.56, 'Korn'),\n",
       " (0.48000000000000004, 'Stone Sour'),\n",
       " (0.44, 'Rage Against the Machine'),\n",
       " (0.36, 'Metallica'),\n",
       " (0.36, 'Red Hot Chili Peppers'),\n",
       " (0.36, 'Trivium'),\n",
       " (0.28, 'Sabaton'),\n",
       " (0.24000000000000002, 'Alexisonfire'),\n",
       " (0.24000000000000002, 'All Time Low'),\n",
       " (0.24000000000000002, 'Ben Howard'),\n",
       " (0.24000000000000002, 'Billy Talent'),\n",
       " (0.24000000000000002, 'Breaking Benjamin'),\n",
       " (0.24000000000000002, 'Bring Me the Horizon'),\n",
       " (0.24000000000000002, 'Bullet for My Valentine'),\n",
       " (0.24000000000000002, 'Lamb of God'),\n",
       " (0.24000000000000002, 'Memphis May Fire'),\n",
       " (0.24000000000000002, 'Mumford & Sons'),\n",
       " (0.24000000000000002, 'Oh, Sleeper'),\n",
       " (0.24000000000000002, 'Sick Puppies'),\n",
       " (0.2, 'Avenged Sevenfold'),\n",
       " (0.2, 'In Flames'),\n",
       " (0.2, 'Pink Floyd'),\n",
       " (0.16000000000000003, 'Amon Amarth'),\n",
       " (0.16000000000000003, 'Arch Enemy'),\n",
       " (0.16000000000000003, 'DragonForce'),\n",
       " (0.16000000000000003, 'Hans Zimmer'),\n",
       " (0.16000000000000003, 'Howard Shore'),\n",
       " (0.16000000000000003, 'Limp Bizkit'),\n",
       " (0.16000000000000003, 'Pendulum'),\n",
       " (0.16000000000000003, 'Pentakill'),\n",
       " (0.16000000000000003, 'Powerwolf'),\n",
       " (0.16000000000000003, 'Tenacious D'),\n",
       " (0.16000000000000003, 'Wintersun'),\n",
       " (0.12000000000000001, 'Amorphis'),\n",
       " (0.12000000000000001, 'Boston'),\n",
       " (0.12000000000000001, 'Children of Bodom'),\n",
       " (0.12000000000000001, 'Coheed and Cambria'),\n",
       " (0.12000000000000001, 'Disturbed'),\n",
       " (0.12000000000000001, 'Electric Light Orchestra'),\n",
       " (0.12000000000000001, 'Epic Rap Battles of History'),\n",
       " (0.12000000000000001, 'Evanescence'),\n",
       " (0.12000000000000001, 'Iron Maiden'),\n",
       " (0.12000000000000001, 'Klamydia'),\n",
       " (0.12000000000000001, 'Lindemann'),\n",
       " (0.12000000000000001, 'Nightwish'),\n",
       " (0.12000000000000001, 'Queen'),\n",
       " (0.12000000000000001, 'Rob Zombie'),\n",
       " (0.12000000000000001, 'Seether'),\n",
       " (0.12000000000000001, 'Shinedown'),\n",
       " (0.12000000000000001, 'Sonata Arctica'),\n",
       " (0.12000000000000001, 'Stam1na'),\n",
       " (0.12000000000000001, 'Theory of a Deadman'),\n",
       " (0.12000000000000001, 'Turmion Kätilöt'),\n",
       " (0.12000000000000001, 'Volbeat'),\n",
       " (0.12000000000000001, 'Ween'),\n",
       " (0.12000000000000001, 'deadmau5'),\n",
       " (0.08000000000000002, '36 Crazyfists'),\n",
       " (0.08000000000000002, 'A Perfect Circle'),\n",
       " (0.08000000000000002, 'Atoms for Peace'),\n",
       " (0.08000000000000002, 'Beach House'),\n",
       " (0.08000000000000002, 'Becoming the Archetype'),\n",
       " (0.08000000000000002, 'Black Label Society'),\n",
       " (0.08000000000000002, 'Black Veil Brides'),\n",
       " (0.08000000000000002, 'Calvin Harris'),\n",
       " (0.08000000000000002, 'Cat Power'),\n",
       " (0.08000000000000002, 'Cradle of Filth'),\n",
       " (0.08000000000000002, 'DIR EN GREY'),\n",
       " (0.08000000000000002, 'Damien Rice'),\n",
       " (0.08000000000000002, 'Dark Tranquillity'),\n",
       " (0.08000000000000002, 'Daughter'),\n",
       " (0.08000000000000002, 'Deftones'),\n",
       " (0.08000000000000002, 'Demon Hunter'),\n",
       " (0.08000000000000002, 'Die Antwoord'),\n",
       " (0.08000000000000002, 'Dimmu Borgir'),\n",
       " (0.08000000000000002, 'Dmitri Shostakovich'),\n",
       " (0.08000000000000002, 'Dope'),\n",
       " (0.08000000000000002, 'Dr. Dre'),\n",
       " (0.08000000000000002, 'Flo Rida'),\n",
       " (0.08000000000000002, 'Freestyle'),\n",
       " (0.08000000000000002, 'Godsmack'),\n",
       " (0.08000000000000002, 'Gyllene Tider'),\n",
       " (0.08000000000000002, 'Halestorm'),\n",
       " (0.08000000000000002, 'Hozier'),\n",
       " (0.08000000000000002, 'James Blake'),\n",
       " (0.08000000000000002, 'Katy Perry'),\n",
       " (0.08000000000000002, 'Ke$ha'),\n",
       " (0.08000000000000002, 'Killswitch Engage'),\n",
       " (0.08000000000000002, 'Krewella'),\n",
       " (0.08000000000000002, 'Lacuna Coil'),\n",
       " (0.08000000000000002, 'Machine Head'),\n",
       " (0.08000000000000002, 'Magnus Uggla'),\n",
       " (0.08000000000000002, 'Marina and the Diamonds'),\n",
       " (0.08000000000000002, 'Mogwai'),\n",
       " (0.08000000000000002, 'Mustasch'),\n",
       " (0.08000000000000002, 'N.W.A'),\n",
       " (0.08000000000000002, 'Nine Inch Nails'),\n",
       " (0.08000000000000002, 'Nirvana'),\n",
       " (0.08000000000000002, 'Nobuo Uematsu'),\n",
       " (0.08000000000000002, 'P.D.P.'),\n",
       " (0.08000000000000002, 'Panic! at the Disco'),\n",
       " (0.08000000000000002, 'Pantera'),\n",
       " (0.08000000000000002, 'Scar Symmetry'),\n",
       " (0.08000000000000002, 'Soilwork'),\n",
       " (0.08000000000000002, 'Soulfly'),\n",
       " (0.08000000000000002, 'Team Sleep'),\n",
       " (0.08000000000000002, 'The Band'),\n",
       " (0.08000000000000002, 'The White Stripes'),\n",
       " (0.08000000000000002, 'Tool'),\n",
       " (0.08000000000000002, 'Warpaint'),\n",
       " (0.08000000000000002, 'White Zombie'),\n",
       " (0.08000000000000002, 'Wu-Tang Clan'),\n",
       " (0.04000000000000001, 'AFI'),\n",
       " (0.04000000000000001, 'Bayside'),\n",
       " (0.04000000000000001, 'Circa Survive'),\n",
       " (0.04000000000000001, 'Cruel Hand'),\n",
       " (0.04000000000000001, 'Energy'),\n",
       " (0.04000000000000001, 'Evergreen Terrace'),\n",
       " (0.04000000000000001, 'Fall Out Boy'),\n",
       " (0.04000000000000001, 'Four Year Strong'),\n",
       " (0.04000000000000001, 'Gallows'),\n",
       " (0.04000000000000001, 'Misfits'),\n",
       " (0.04000000000000001, 'Motion City Soundtrack'),\n",
       " (0.04000000000000001, 'My Chemical Romance'),\n",
       " (0.04000000000000001, 'New Found Glory'),\n",
       " (0.04000000000000001, 'Parkway Drive'),\n",
       " (0.04000000000000001, 'Saosin'),\n",
       " (0.04000000000000001, 'The Dear Hunter'),\n",
       " (0.04000000000000001, 'The Wonder Years'),\n",
       " (0.04000000000000001, 'blink-182')]"
      ]
     },
     "execution_count": 26,
     "metadata": {},
     "output_type": "execute_result"
    }
   ],
   "source": [
    "getRecommendations(userDict, 'BrunoJoS', sim_RusselRao)"
   ]
  },
  {
   "cell_type": "markdown",
   "metadata": {},
   "source": [
    "6:"
   ]
  },
  {
   "cell_type": "markdown",
   "metadata": {},
   "source": [
    "Die euklidische Distanz beschreibt die Ähnlichkeit zweier Objekte. Dabei wird die maximale Ähnlichkeit als 1 ausgedrückt und minimale Ähnlichkeit als 0. Aus der Liste ist ersichtlich, dass die Band \"Korn\" wahrscheinlich dem Nutzer 'BrunoJoS' gefallen würde.\n",
    "\n",
    "Die Russel Rao Ähnlichkeit zeigt, dass die Bands \"Five Finger Death Punch\" und \"Korn\" dem Nutzer \"BrunoJoS\" am meisten gefallen könnten, weil die Nutzer, die \"FFDP\" und \"Korn\" hören ähnliche Top Artists haben."
   ]
  }
 ],
 "metadata": {
  "kernelspec": {
   "display_name": "Python 3 (ipykernel)",
   "language": "python",
   "name": "python3"
  },
  "language_info": {
   "codemirror_mode": {
    "name": "ipython",
    "version": 3
   },
   "file_extension": ".py",
   "mimetype": "text/x-python",
   "name": "python",
   "nbconvert_exporter": "python",
   "pygments_lexer": "ipython3",
   "version": "3.11.5"
  },
  "nav_menu": {},
  "toc": {
   "base_numbering": 1,
   "nav_menu": {},
   "number_sections": true,
   "sideBar": true,
   "skip_h1_title": false,
   "title_cell": "Table of Contents",
   "title_sidebar": "Contents",
   "toc_cell": false,
   "toc_position": {},
   "toc_section_display": "block",
   "toc_window_display": true
  },
  "toc_position": {
   "height": "664px",
   "left": "0px",
   "right": "1209.67px",
   "top": "125.333px",
   "width": "212px"
  }
 },
 "nbformat": 4,
 "nbformat_minor": 1
}
